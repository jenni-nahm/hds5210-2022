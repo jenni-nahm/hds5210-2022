{
 "cells": [
  {
   "cell_type": "markdown",
   "metadata": {},
   "source": [
    "# Week 11 - Earn-Back Points Assignment #1\n",
    "\n",
    "These exercises are entirely optional, but they provide good practice. And you can use them to earn extra points toward your semester grade.  Each problem in this notebook can you earn you back up to 2 points.  There are key requirements, though. If your code does not following these rules, you will earn no points for your work.\n",
    "* You MUST include docstrings that explain the purpose of your code.\n",
    "* You MUST include at least 2 example tests in your docstrings for each function you write.\n",
    "* You MUST run your docstrings within the notebook to show me your code and docstrings work correctly.\n",
    "* You MUST submit your own individual work.  You may not collaborate with other students on these assignments.\n",
    "\n",
    "There will be 4 assignments like this between now and the end of the semester, each with 4 problems, each worth 2 points, for a total of 32 points.\n",
    "\n",
    "**If anything about the above rules is unclear, please message me on Canvas or via email**"
   ]
  },
  {
   "cell_type": "markdown",
   "metadata": {},
   "source": [
    "---"
   ]
  },
  {
   "cell_type": "markdown",
   "metadata": {},
   "source": [
    "## Earn-Back 1: Sunflower Health Plan Files\n",
    "\n",
    "Sunflower Health Plan is one of Centene's state-specific health plans. If you aren't familiar with Centene, they are one of the largest healthcare maangement organizations the country and are headquartered here in St. Louis. Many of your colleagues from previous graduating classes now work at Centene. \n",
    "\n",
    "Sunflower Health Plan has posted links to two files on this page: https://www.sunflowerhealthplan.com/json.html\n",
    "\n",
    "* https://www.sunflowerhealthplan.com/content/dam/centene/sunflower/json/KAPrintProviderDir_Prac.json\n",
    "* https://www.sunflowerhealthplan.com/content/dam/centene/sunflower/json/KAPrintProviderDir_Prov.json\n",
    "\n",
    "This entire problemset asks you to work with these files.\n",
    "\n",
    "Your first step is to write a python function called **get_files(type)** where **type** is a string that contains one of two values: *practitioner* or *provider*.  Your function should download the correct file from the webpage above based on the string value passed to the function. The function should return the objects created by loading that JSON data.\n",
    "\n",
    "**INPUT:** `'practitioneer'` or `'provider'`\n",
    "\n",
    "**OUTPUT:** Python object based on the data from the appropriate file.\n",
    "\n",
    "\n",
    "*Note that these files may take a minute for Python to download. They're big.*"
   ]
  },
  {
   "cell_type": "code",
   "execution_count": 111,
   "metadata": {},
   "outputs": [],
   "source": [
    "import pandas as pd\n",
    "import json\n",
    "from urllib.request import urlopen\n",
    "\n",
    "def get_files(type):\n",
    "    \"\"\"(str)->list\n",
    "    This function will take in a string, and if that string is either 'practitioner' or 'provider', it will pull a json file from the\n",
    "    corresponding url and return it. If a different string is used, it will inform the user that the function was not used correctly and won't\n",
    "    return a json file.\n",
    "    \n",
    "    >>> len(get_files('provider'))\n",
    "    22225\n",
    "    \n",
    "    >>> get_files('abcde')\n",
    "    Wrong type. Please enter \"practitioner\" or \"provider\".\n",
    "    \"\"\"\n",
    "    \n",
    "    # determines if input is valid, then loads corresponding json file\n",
    "    if type == 'practitioner':\n",
    "        response = urlopen('https://www.sunflowerhealthplan.com/content/dam/centene/sunflower/json/KAPrintProviderDir_Prac.json')\n",
    "        type_json = json.loads(response.read())\n",
    "        \n",
    "    elif type == 'provider':\n",
    "        response = urlopen('https://www.sunflowerhealthplan.com/content/dam/centene/sunflower/json/KAPrintProviderDir_Prov.json')\n",
    "        type_json = json.loads(response.read())\n",
    "        \n",
    "    else: \n",
    "        print('Wrong type. Please enter \"practitioner\" or \"provider\".')\n",
    "        type_json = None\n",
    "        \n",
    "    return type_json"
   ]
  },
  {
   "cell_type": "code",
   "execution_count": 112,
   "metadata": {},
   "outputs": [
    {
     "name": "stdout",
     "output_type": "stream",
     "text": [
      "Finding tests in NoName\n",
      "Trying:\n",
      "    len(get_files('provider'))\n",
      "Expecting:\n",
      "    22225\n",
      "ok\n",
      "Trying:\n",
      "    get_files('abcde')\n",
      "Expecting:\n",
      "    Wrong type. Please enter \"practitioner\" or \"provider\".\n",
      "ok\n"
     ]
    }
   ],
   "source": [
    "import doctest\n",
    "doctest.run_docstring_examples(get_files, globals(), verbose=True)"
   ]
  },
  {
   "cell_type": "markdown",
   "metadata": {},
   "source": [
    "## Earn-Back 2: What is this Data?\n",
    "\n",
    "No coding for this part, so no docstrings or tests are required.\n",
    "\n",
    "Explain to in 2-3 sentences, what do you see in these files? If you can't make sense of it from a healthcare business perspective, just tell me what you see in techincal terms."
   ]
  },
  {
   "cell_type": "markdown",
   "metadata": {},
   "source": [
    "It appears that both files show specific information pertaining to either healthcare professionals ('practitioners') or facilities ('providers'). For example, the 'practitioners' file includes name, practitioner ID, type of practitioner, where they are located, what/who they treat, etc. The 'providers' file includes similar information (name, ID, location) but also includes accreditiation, transportation services, ADA accommodations, list of pharmacies and more. However, these files have a lot of missing information beyond basic information like name, location, hours. For example, many of the facilities listed in 'providers' do not have values listed under any pharmacy keys. "
   ]
  },
  {
   "cell_type": "markdown",
   "metadata": {},
   "source": [
    "## Earn-Back 3: How many are closed on each Day of the Week\n",
    "\n",
    "You'll see in the files a piece of information that tellsu us what the schedule is on every day of the week:\n",
    "\n",
    "```json\n",
    "'PROVIDER_ID': '387724',\n",
    " 'LOCATION_ID': '626140',\n",
    " 'NAME': 'Mercy Clinic Cardiology',\n",
    " 'PROVIDER TYPE': 'GROUP PRACTICE',\n",
    " 'NPI': '1215264817',\n",
    " 'SPECIALTY': 'Multi-Specialty',\n",
    " 'ADDRESS1': '3020 Saint Johns Boulevard',\n",
    " 'ADDRESS2': 'Suite A1',\n",
    " 'ADDRESS3': '',\n",
    " 'CITY': 'Joplin',\n",
    " 'STATE': 'MO',\n",
    " 'ZIP': '64804',\n",
    " 'COUNTY': 'Newton',\n",
    " 'LATITUDE': '37.061',\n",
    " 'LONGITUDE': '-94.536',\n",
    " 'PHONE': '(417) 627-8566-(855) 420-7900',\n",
    " 'AFTER HOUR PHONE': '',\n",
    " 'FAX': '',\n",
    " 'OFFICEHOURS_SU': 'Closed',\n",
    " 'OFFICEHOURS_MO': '8:00 AM - 5:00 PM',\n",
    " 'OFFICEHOURS_TU': '8:00 AM - 5:00 PM',\n",
    " 'OFFICEHOURS_WE': '8:00 AM - 5:00 PM',\n",
    " 'OFFICEHOURS_TH': '8:00 AM - 5:00 PM',\n",
    " 'OFFICEHOURS_FR': '8:00 AM - 5:00 PM',\n",
    " 'OFFICEHOURS_SA': 'Closed',\n",
    " 'HANDICAP ACCESS': 'N',\n",
    " 'WEBSITE': 'www.mercy.net',\n",
    " 'PRODUCT 1': 'GP',\n",
    "\n",
    "```\n",
    "\n",
    "Write a function called **closed_by_day(data)** that takes one parameter (the data that came out of the Provider or Practitioner download) and outputs a dictionary of how many practitioneres / providers are closed on each day:\n",
    "```json\n",
    "{\n",
    "    \"Sunday\": 1401,\n",
    "    \"Monday\": 2,\n",
    "    ...etc...\n",
    "```"
   ]
  },
  {
   "cell_type": "code",
   "execution_count": 113,
   "metadata": {},
   "outputs": [],
   "source": [
    "def closed_by_day(data):\n",
    "    \"\"\"(list)->dict\n",
    "    This function will use the json file produced by the get_files function to read through the json file and find, for each day, how many\n",
    "    practitioners/providers are closed. These numbers will be added to their corresponding spot in a dictionary and returned.\n",
    "    \n",
    "    >>> closed_by_day(get_files('provider')).get('Sunday')\n",
    "    18505\n",
    "    \n",
    "    >>> sum(closed_by_day(get_files('practitioner')).values())\n",
    "    133063\n",
    "    \"\"\"\n",
    "    # assign each day as 0 \n",
    "    sunday, monday, tuesday, wednesday, thursday, friday, saturday = 0,0,0,0,0,0,0\n",
    "    \n",
    "    # iterate through each entry in data and increase day variable if closed\n",
    "    for entry in data:\n",
    "        if entry.get('OFFICEHOURS_SU') == 'Closed':\n",
    "            sunday += 1\n",
    "        if entry.get('OFFICEHOURS_MO') == 'Closed':\n",
    "            monday += 1\n",
    "        if entry.get('OFFICEHOURS_TU') == 'Closed':\n",
    "            tuesday += 1\n",
    "        if entry.get('OFFICEHOURS_WE') == 'Closed':\n",
    "            wednesday += 1\n",
    "        if entry.get('OFFICEHOURS_TH') == 'Closed':\n",
    "            thursday += 1\n",
    "        if entry.get('OFFICEHOURS_FR') == 'Closed':\n",
    "            friday += 1\n",
    "        if entry.get('OFFICEHOURS_SA') == 'Closed':\n",
    "            saturday += 1\n",
    "    \n",
    "    # create dictionary for days\n",
    "    closed_dict = {'Sunday': sunday, 'Monday': monday, 'Tuesday': tuesday, 'Wednesday': wednesday, 'Thursday': thursday, 'Friday': friday, 'Saturday': saturday}\n",
    "    \n",
    "    return closed_dict\n",
    "    "
   ]
  },
  {
   "cell_type": "code",
   "execution_count": 114,
   "metadata": {},
   "outputs": [
    {
     "name": "stdout",
     "output_type": "stream",
     "text": [
      "Finding tests in NoName\n",
      "Trying:\n",
      "    closed_by_day(get_files('provider')).get('Sunday')\n",
      "Expecting:\n",
      "    18505\n",
      "ok\n",
      "Trying:\n",
      "    sum(closed_by_day(get_files('practitioner')).values())\n",
      "Expecting:\n",
      "    133063\n",
      "ok\n"
     ]
    }
   ],
   "source": [
    "import doctest\n",
    "doctest.run_docstring_examples(closed_by_day, globals(), verbose=True)"
   ]
  },
  {
   "cell_type": "markdown",
   "metadata": {},
   "source": [
    "## Earn-Back 4: Output to a file\n",
    "\n",
    "Now, simply write a function named **to_csv(data, file)** that takes this summary view of information as a dictionary (the `data` parameter) and writes it out to a CSV file (the `file` parameter)."
   ]
  },
  {
   "cell_type": "code",
   "execution_count": 115,
   "metadata": {},
   "outputs": [],
   "source": [
    "import csv\n",
    "def to_csv(data, file):\n",
    "    \"\"\"(list, str)\n",
    "    This function will take in the appropriate json file and convert it to a csv file also passed through as a parameter. Nothing is 'returned'\n",
    "    as the function automatically produces a new csv file.\n",
    "    \n",
    "    >>> to_csv(get_files('provider'), 'provider')\n",
    "    Please enter a csv file name like this: filename.csv\n",
    "    \n",
    "    >>> len(list(csv.reader(open(\"provider.csv\"))))\n",
    "    22226\n",
    "    \"\"\"\n",
    "    # determines if file is .csv\n",
    "    if type(file) != str or file[len(file)-4:] != '.csv':\n",
    "        print('Please enter a csv file name like this: filename.csv')\n",
    "    else:\n",
    "        with open(file,'w') as f:\n",
    "            # set header names as keys found in first dictionary in list\n",
    "            write = csv.DictWriter(f, fieldnames=data[0].keys()) \n",
    "            write.writeheader()\n",
    "            write.writerows(data)"
   ]
  },
  {
   "cell_type": "code",
   "execution_count": 116,
   "metadata": {},
   "outputs": [
    {
     "name": "stdout",
     "output_type": "stream",
     "text": [
      "Finding tests in NoName\n",
      "Trying:\n",
      "    to_csv(get_files('provider'), 'provider')\n",
      "Expecting:\n",
      "    Please enter a csv file name like this: filename.csv\n",
      "ok\n",
      "Trying:\n",
      "    len(list(csv.reader(open(\"provider.csv\"))))\n",
      "Expecting:\n",
      "    22226\n",
      "ok\n"
     ]
    }
   ],
   "source": [
    "import doctest\n",
    "doctest.run_docstring_examples(to_csv, globals(), verbose=True)"
   ]
  },
  {
   "cell_type": "markdown",
   "metadata": {},
   "source": [
    "## Submit your work to github in your week 11 folder by 11/18 11:59 PM"
   ]
  },
  {
   "cell_type": "code",
   "execution_count": null,
   "metadata": {},
   "outputs": [],
   "source": []
  }
 ],
 "metadata": {
  "kernelspec": {
   "display_name": "Python 3",
   "language": "python",
   "name": "python3"
  },
  "language_info": {
   "codemirror_mode": {
    "name": "ipython",
    "version": 3
   },
   "file_extension": ".py",
   "mimetype": "text/x-python",
   "name": "python",
   "nbconvert_exporter": "python",
   "pygments_lexer": "ipython3",
   "version": "3.6.7"
  }
 },
 "nbformat": 4,
 "nbformat_minor": 4
}
