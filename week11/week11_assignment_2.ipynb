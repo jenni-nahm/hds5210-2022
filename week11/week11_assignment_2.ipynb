{
 "cells": [
  {
   "cell_type": "markdown",
   "metadata": {},
   "source": [
    "# Week 11 Assignment\n",
    "\n",
    "Because I was unable to conduct our workshop this week, I'm keeping the assignment light as well.  Below you'll find just two steps for this week: one programming exercise and then a planning activity for your final project.\n",
    "\n",
    "For clarification, the \"final project\" I've been referring to is your \"final.\"  It is not a project in addition to a final exam.  They're one-in-the-same.\n",
    "\n",
    "Please do the programming exercise and verify that your code works using the tests, then think about your final project and fill out the questions in the second part.\n",
    "\n",
    "---\n",
    "---"
   ]
  },
  {
   "cell_type": "markdown",
   "metadata": {},
   "source": [
    "### 47.1: Filtering and summarizing data\n",
    "\n",
    "For this work, you'll find a data file in `/data/complications_all.csv`.\n",
    "\n",
    "Read in the data file and create a variable called `mo_hospitals` that contains a data frame from the `complications_all.csv` file, filtered down to only contain those hospitals from the state of Missouri (MO).\n",
    "\n",
    "Then aggregate that data by hospital into a variable named `mo_summary`.  There are some key fields that we want to summarize:\n",
    "* We want to know the earliest date that each hospital was participating in any program\n",
    "* We want to know the latest date that each hospital stopped participating in any program\n",
    "* We want to know the total number of patients in the denominators of these programs\n",
    "\n",
    "Some things to note:\n",
    "* You will need to convert the `Start Date` and `End Date` to actual datetime fields\n",
    "* You will need to clean up and convert the `Denominator` field to just be numeric - the rule that you should use it to simply remove any records where the `Denominator` is `'Not Available'`\n",
    "\n",
    "\n",
    "The final result of this step should be a new data frame called `mo_summary` that contains one row for each hospital and contains the min start date, max end date, and total denominator.  Use the names `start_date`, `end_date`, and `number` for those columns in `mo_summary`.\n",
    "\n",
    "\n",
    "You do not need to create your code in the form of a function, just make sure your variable names match what I've described above so the tests work."
   ]
  },
  {
   "cell_type": "code",
   "execution_count": 156,
   "metadata": {},
   "outputs": [],
   "source": [
    "import pandas as pd\n",
    "\n",
    "complications = pd.read_csv('/data/complications_all.csv')\n",
    "\n",
    "# filter for states listed as MO\n",
    "missouri = complications['State'] == 'MO' \n",
    "\n",
    "# new dataframe with missouri filter\n",
    "mo_hospitals = complications[missouri] "
   ]
  },
  {
   "cell_type": "code",
   "execution_count": 157,
   "metadata": {},
   "outputs": [],
   "source": [
    "assert(mo_hospitals['State'].unique() == ['MO'])\n",
    "assert(mo_hospitals.shape == (2133,18))"
   ]
  },
  {
   "cell_type": "code",
   "execution_count": 158,
   "metadata": {},
   "outputs": [],
   "source": [
    "# new dataframe with selected columns\n",
    "mo_summary = mo_hospitals[['Facility Name','Denominator', 'Start Date', 'End Date']] \n",
    "\n",
    "# filters out 'not available' denominators\n",
    "not_available = mo_summary['Denominator'] == 'Not Available' \n",
    "mo_summary = mo_summary[~not_available]\n",
    "\n",
    "# makes denominator values int\n",
    "mo_summary['Denominator'] = mo_summary['Denominator'].astype(int) \n",
    "\n",
    "# change dates from str to datetime\n",
    "start = mo_summary['Start Date'].astype(str)\n",
    "mo_summary['Start Date'] = pd.to_datetime(start, format='%m/%d/%Y')\n",
    "end = mo_summary['End Date'].astype(str)\n",
    "mo_summary['End Date'] = pd.to_datetime(end, format='%m/%d/%Y')\n",
    "\n",
    "# combine aggregated data by facility\n",
    "mo_summary = mo_summary.groupby(['Facility Name']).aggregate({'Denominator':'sum', 'Start Date':'min', 'End Date':'max'}) \n",
    "\n",
    "# rename columns to match assert labels\n",
    "mo_summary = mo_summary.rename(columns={'Denominator':'number', 'Start Date':'start_date', 'End Date':'end_date'}) "
   ]
  },
  {
   "cell_type": "code",
   "execution_count": 159,
   "metadata": {},
   "outputs": [],
   "source": [
    "assert(mo_summary['number'].sum() == 1766908)\n",
    "assert(mo_summary['start_date'].min() == pd.Timestamp(2015,4,1))\n",
    "assert(mo_summary['end_date'].max() == pd.Timestamp(2018,6,30))\n",
    "assert(mo_summary.shape == (108,3))\n",
    "assert(mo_summary.loc['BARNES JEWISH HOSPITAL'].number == 131313)\n",
    "assert(mo_summary.loc['BOONE HOSPITAL CENTER'].number == 63099)"
   ]
  },
  {
   "cell_type": "markdown",
   "metadata": {},
   "source": [
    "---\n",
    "\n",
    "### 47.2 Planning your final project\n",
    "\n",
    "You should be thinking about the things we've been learning and how you can apply them to your final project.  Use the rubric to help guid your thinking and then answer the questions below.  This is meant as a guide to help you think through what you will do."
   ]
  },
  {
   "cell_type": "markdown",
   "metadata": {},
   "source": [
    "#### A) Data Access\n",
    "\n",
    "Your project should include data from at least three distinct types of sources.  For example: AWS S3, Relational Databases, Internet, Web Services, local files.  List what data sources you're planning to use."
   ]
  },
  {
   "cell_type": "markdown",
   "metadata": {},
   "source": [
    "**Double-click to enter your answer**\n",
    "\n",
    "I already have some data chosen for this project; I'll use the internet to grab html table(s) directly and to download files from sources like data.gov and uploading them to my 'final' folder. I'm not sure what third source I'll use, but it will most likely be from an API.\n"
   ]
  },
  {
   "cell_type": "markdown",
   "metadata": {},
   "source": [
    "#### B. Data Formats\n",
    "\n",
    "Your project should include data that comes in different file formats.  For example: HL7, EDI, HTML, CSV, Excel, JSON, XML.  List what data formats you're planning to use."
   ]
  },
  {
   "cell_type": "markdown",
   "metadata": {},
   "source": [
    "**Double-click to enter your answer**\n",
    "\n",
    "I plan on using HTML, CSV, and JSON files.\n"
   ]
  },
  {
   "cell_type": "markdown",
   "metadata": {},
   "source": [
    "#### C. Objective\n",
    "\n",
    "What purpose would your project serve in a real work setting?  Take a couple of paragraphs to write down why this is an interesting product."
   ]
  },
  {
   "cell_type": "markdown",
   "metadata": {},
   "source": [
    "**Double-click to enter your answer**\n",
    "\n",
    "By going through some of the datasets found in data.gov, I was able to find a few related files uploaded from the State of Connecticut. For example, I found a dataset pertaining to prescription drop off locations in the state. Besides being a graduate student, I'm a pharmacy technician, and I worked in the retail side of pharmacy for a little over a year before switching to long-term care. I remember at least once a week a patient would come up to the counter and ask if we could take back their unused medications. Since our Walgreens store didn't have a drop off box and we didn't know if any nearby Walgreens had one, we would usually advise them to see if their local police station had one or to put the medications in a container with repellents like cat litter and dispose of it in the trash. However, these options may not be the best as someone could be wary of going to the police even if their medications were legally obtained and trash-diposed medications will not be properly destroyed. \n",
    "\n",
    "What I want to do with this dataset, and the other data I have saved so far, is to determine how accessible these locations are to those living in Connecticut. Accessibility could be measured by how many people live close to a drop box location, the farthest distance between a populated area and a drop box, and if the location is law enforcement-based or retail-based. I think it is very important to have these drop boxes as accessible as possible because it promotes proper destruction of medications and hopefully limits how excess/unneeded medications are misused. For example, someone could be given a 7-day supply of clindamycin, take only 4 days worth, and keep the rest in their medicine cabinet. The next time they feel sick, they may feel inclined to finish off the clindamycin. However, since clindamycin is an antibiotic, using it when it is not the right treatment could lead to antibiotic resistance in that person and cause them to have unintended side effects that might make their sickness worse.\n"
   ]
  },
  {
   "cell_type": "markdown",
   "metadata": {},
   "source": [
    "\n",
    "\n",
    "---\n",
    "\n",
    "\n",
    "\n",
    "## Submit your work via GitHub as normal\n"
   ]
  }
 ],
 "metadata": {
  "kernelspec": {
   "display_name": "Python 3",
   "language": "python",
   "name": "python3"
  },
  "language_info": {
   "codemirror_mode": {
    "name": "ipython",
    "version": 3
   },
   "file_extension": ".py",
   "mimetype": "text/x-python",
   "name": "python",
   "nbconvert_exporter": "python",
   "pygments_lexer": "ipython3",
   "version": "3.6.7"
  }
 },
 "nbformat": 4,
 "nbformat_minor": 4
}
