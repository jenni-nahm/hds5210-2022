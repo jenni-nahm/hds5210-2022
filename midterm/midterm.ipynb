{
 "cells": [
  {
   "cell_type": "markdown",
   "metadata": {},
   "source": [
    "# HDS5210-2022 Fall Midterm\n",
    "\n",
    "In the midterm exercise, you're going to use all the programming and data management skills you've developed so far to build a pricing calculator that will calculate how much money should be reimbursed for the visits in a CSV file. To do this, you will need to get allowed amounts (aka rates) from a JSON file, apply some special rules, and then calculate various totals by hospital or by month.\n",
    "\n",
    "Each step of the midterm will build up to form your final solution. Along the way, I've provided plenty of test cases to make sure you're getting each step correct.\n",
    "\n",
    "All functions require docstrings with a description and at least one test case.\n",
    "\n",
    "The midterm is due Monday, October 24th at 11:59 PM CST.\n",
    "\n",
    "---"
   ]
  },
  {
   "cell_type": "markdown",
   "metadata": {},
   "source": [
    "## Step 1: Average Rate\n",
    "\n",
    "With the `/data/negotiated_rates.json` file as input for your first function, read all the `allowed_amount` attributes and calculate an average allowed amount over all rates in the file.\n",
    "\n",
    "Your function should be named **average_rate()**, take the file's name as it's input parameter, and return a float as the result.\n",
    "\n",
    "**ROUND YOUR ANSWER TO 2 DECIMAL PLACES**"
   ]
  },
  {
   "cell_type": "code",
   "execution_count": 151,
   "metadata": {},
   "outputs": [],
   "source": [
    "import json\n",
    "def average_rate(file):\n",
    "    \"\"\"(str)->float\n",
    "    This function will read through a specific json file called 'negotiated_rates' to find the allowed amounts for each listed procedure. \n",
    "    It will calculate the average allowed amount and return this value as a float rounded to two decimal places.\n",
    "    \n",
    "    >>> average_rate('/data/negotiated_rates.json')\n",
    "    38.67\n",
    "    \n",
    "    >>> type(average_rate('/data/negotiated_rates.json'))\n",
    "    <class 'float'>\n",
    "    \"\"\"\n",
    "    if file != '/data/negotiated_rates.json': # if the wrong json data file is used...\n",
    "        raise Exception(\"Please use this json data file: 'negotiated_rates.json'\") # ...inform the user to enter the correct file\n",
    "    \n",
    "    with open(file) as f: # opens the json file passed through the parameter # set up to close file automatically\n",
    "        negotiated_rates = json.load(f) # reads json file into a dictionary called 'negotiated_rates'\n",
    "    \n",
    "    total_allowed_amount = 0 # set total of allowed amounts to zero\n",
    "    counter_allowed_amount = 0 # set counter of allowed amounts to zero\n",
    "    \n",
    "    out_of_network = negotiated_rates.get('out_of_network') # assigns values in out_of_network key to a list called 'out_of_network'\n",
    "    \n",
    "    for oon in out_of_network: # iterate through each item in 'out_of_network'\n",
    "        allowed_amounts = oon.get('allowed_amounts') # assigns value in allowed_amounts key to 'allowed_amounts'\n",
    "        \n",
    "        for aa in allowed_amounts: # iterate through each item in 'allowed_amounts'\n",
    "            payments = aa.get('payments') # assigns value in payments key to 'payments'\n",
    "            total_allowed_amount += payments.get('allowed_amount') # adds value from allowed_amount key to total\n",
    "            counter_allowed_amount += 1 # increases counter by 1\n",
    "    \n",
    "    average_allowed_amount = round((total_allowed_amount / counter_allowed_amount), 2) # divide total allowed amounts by the number of allowed amounts...\n",
    "                                                                                       # ...and round to 2 decimal places\n",
    "    return average_allowed_amount # return the average of allowed amounts\n"
   ]
  },
  {
   "cell_type": "code",
   "execution_count": 152,
   "metadata": {},
   "outputs": [],
   "source": [
    "assert(average_rate('/data/negotiated_rates.json') == 38.67)"
   ]
  },
  {
   "cell_type": "code",
   "execution_count": 153,
   "metadata": {},
   "outputs": [
    {
     "name": "stdout",
     "output_type": "stream",
     "text": [
      "Finding tests in NoName\n",
      "Trying:\n",
      "    average_rate('/data/negotiated_rates.json')\n",
      "Expecting:\n",
      "    38.67\n",
      "ok\n",
      "Trying:\n",
      "    type(average_rate('/data/negotiated_rates.json'))\n",
      "Expecting:\n",
      "    <class 'float'>\n",
      "ok\n"
     ]
    }
   ],
   "source": [
    "import doctest\n",
    "doctest.run_docstring_examples(average_rate, globals(), verbose=True)"
   ]
  },
  {
   "cell_type": "markdown",
   "metadata": {},
   "source": [
    "---\n",
    "\n",
    "## Step 2: Rate for a Billing Code / Service Code Combination\n",
    "\n",
    "For the next step, we need to be able to look up the allowed amount for any given billing code / service code combination.\n",
    "\n",
    "In this data, the billing code represents the service or procedure that was provided. The service code represents the type of site where the service was provided.\n",
    "\n",
    "Your function should be named **get_rate()** and take three parameters: the JSON file name, the billing code, and the service code. If your code can't find that combination in the file, it should return None."
   ]
  },
  {
   "cell_type": "code",
   "execution_count": 154,
   "metadata": {},
   "outputs": [],
   "source": [
    "import json\n",
    "\n",
    "def get_rate(file, billing_code, service_code):\n",
    "    \"\"\"(str, str, str)->float or NoneType\n",
    "    This function will read through a specific json file called 'negotiated_rates' to find the allowed amount rate for a specified billing code\n",
    "    and service code. It will return the rate as a float if the codes match or None if the codes do not.\n",
    "    \n",
    "    >>> get_rate('/data/negotiated_rates.json', '97110', '11')\n",
    "    21.51\n",
    "    \n",
    "    >>> get_rate('/data/negotiated_rates.json', 'ABCDE', '00')\n",
    "    \"\"\"\n",
    "    if file != '/data/negotiated_rates.json': # if the wrong json data file is used...\n",
    "        raise Exception(\"Please use this json data file: 'negotiated_rates.json'\") # ...inform the user to enter the correct file\n",
    "    \n",
    "    with open(file) as f: # opens the json file passed through the parameter # set up to close file automatically\n",
    "        negotiated_rates = json.load(f) # reads json file into a dictionary called 'negotiated_rates'\n",
    "    \n",
    "    rate = None # set rate to None\n",
    "    \n",
    "    out_of_network = negotiated_rates.get('out_of_network') # assigns values in out_of_network key to a list called 'out_of_network'\n",
    "    \n",
    "    for oon in out_of_network: # iterate through each item in 'out_of_network'\n",
    "        oon_billing_code = oon.get('billing_code') # assigns value in billing_code key to 'oon_billing_code'\n",
    "        allowed_amounts = oon.get('allowed_amounts') # assigns value in allowed_amounts key to 'allowed_amounts'\n",
    "        \n",
    "        for aa in allowed_amounts: # iterate through each item in 'allowed_amounts'\n",
    "            aa_service_code = aa.get('service_code') # assigns value in service_code key to 'aa_service_code'\n",
    "            payments = aa.get('payments') # assigns value in payments key to 'payments'\n",
    "            \n",
    "            if oon_billing_code == billing_code and aa_service_code == service_code: # if the billing and service codes match...\n",
    "                rate = payments.get('allowed_amount') # ...then assign the value in allowed_amount key to 'rate'\n",
    "                \n",
    "    return rate # return the rate\n",
    "    "
   ]
  },
  {
   "cell_type": "code",
   "execution_count": 155,
   "metadata": {},
   "outputs": [],
   "source": [
    "assert (get_rate('/data/negotiated_rates.json','G0283','11') == 8.78)\n",
    "assert (get_rate('/data/negotiated_rates.json','97140','11') == 20.03)\n",
    "assert (get_rate('/data/negotiated_rates.json','97110','12') == 26.62)"
   ]
  },
  {
   "cell_type": "code",
   "execution_count": 156,
   "metadata": {},
   "outputs": [
    {
     "name": "stdout",
     "output_type": "stream",
     "text": [
      "Finding tests in NoName\n",
      "Trying:\n",
      "    get_rate('/data/negotiated_rates.json', '97110', '11')\n",
      "Expecting:\n",
      "    21.51\n",
      "ok\n",
      "Trying:\n",
      "    get_rate('/data/negotiated_rates.json', 'ABCDE', '00')\n",
      "Expecting nothing\n",
      "ok\n"
     ]
    }
   ],
   "source": [
    "import doctest\n",
    "doctest.run_docstring_examples(get_rate, globals(), verbose=True)"
   ]
  },
  {
   "cell_type": "markdown",
   "metadata": {},
   "source": [
    "---\n",
    "\n",
    "## Part 3: Special Rules for Rates\n",
    "\n",
    "There are some special rules for adjusting rates depending on a patient's age and the day of week.  (These are made up. Not from the real world.) In the next part of the midterm, you'll need to create a function that applies these extra rules to a rate and return the adjusted value.\n",
    "\n",
    "1. If the day of week is Monday, charge only 75% of the allowed amount.\n",
    "2. If the patient's age is 65 or higher, charge only 50% of the allowed amount.\n",
    "3. If's both Monday and the patient's age is 65 or higher, charge only 50% of the allowed amount.\n",
    "4. If neither of these conditions are true, charge the whole amount.\n",
    "\n",
    "Your function should be named **get_adjusted_rate()** and take five parameters: file name, billing code, service code, patient age, and visit date.  Your function should return the adjusted rate (based on the rules above) or None if the rate couldn't be found in the file.\n",
    "\n",
    "Note that your function will take a date in the form `%Y-%m-%d` ([see datetime.strptime()](https://docs.python.org/3/library/datetime.html#datetime.datetime.strptime)) and will need to calculate the [day of week](https://docs.python.org/3/library/datetime.html#datetime.date.weekday).\n",
    "\n",
    "**ROUND YOUR ANSWER TO 2 DECIMAL PLACES**"
   ]
  },
  {
   "cell_type": "code",
   "execution_count": 157,
   "metadata": {},
   "outputs": [],
   "source": [
    "from datetime import datetime\n",
    "\n",
    "def get_adjusted_rate(file, billing_code, service_code, pat_age, visit_date):\n",
    "    \"\"\"(str, str, str, int, str)->float or NoneType\n",
    "    This function calls upon the get_rate() function to determine an adjusted rate based on these special rules: when visit dates are on Mondays, \n",
    "    rate is reduced to 75%; when visit dates are on Mondays and the patient is 65+ OR just the patient is 65+, rate is reduced to 50%. All other\n",
    "    conditions means the rate stays the same as before. This adjusted rate (or same rate) is then rounded to two decimal places and returned as \n",
    "    a float value (or as a None value if the rate is not found).\n",
    "    \n",
    "    >>> get_adjusted_rate('/data/negotiated_rates.json','G0283','11',22,'2022-10-17')\n",
    "    6.58\n",
    "    \n",
    "    >>> get_adjusted_rate('/data/negotiated_rates.json','G0283','11',64,'2022-10-18')\n",
    "    8.78\n",
    "    \n",
    "    >>> get_adjusted_rate('/data/negotiated_rates.json','ABCDE','00',22,'2022-10-17')\n",
    "    \"\"\"\n",
    "    \n",
    "    rate = get_rate(file, billing_code, service_code) # assign get_rate() value to 'rate' to get the standard rate\n",
    "    \n",
    "    visit_date_number = datetime.strptime(visit_date, '%Y-%m-%d').weekday() # takes the visit date and produces the weekday it falls on as a number\n",
    "    \n",
    "    if rate == None: # if the standard rate is not available...\n",
    "        adjusted_rate = None # ...then there is no adjusted rate\n",
    "        \n",
    "    elif pat_age >= 65: # else if the patient is 65+...\n",
    "        adjusted_rate = rate * 0.50 # ...then the standard rate is reduced to 50%\n",
    "        \n",
    "    elif visit_date_number == 0: # else if the visit date falls on a Monday (.weekday() produces a 0 for Mondays)...\n",
    "        adjusted_rate = rate * 0.75 # ...then the standard rate is reduced to 75%\n",
    "        \n",
    "    else: # if none of the special rules are met...\n",
    "        adjusted_rate = rate # ...then the rate remains is not adjusted and stays the same   \n",
    "    \n",
    "    if isinstance(adjusted_rate, float): # if the adjusted rate is a float value and not a NoneType...\n",
    "        adjusted_rate = round(adjusted_rate, 2) # ...then round the adjusted rate to two decimal places\n",
    "        \n",
    "    return adjusted_rate # return the adjusted rate"
   ]
  },
  {
   "cell_type": "code",
   "execution_count": 158,
   "metadata": {},
   "outputs": [],
   "source": [
    "assert (get_adjusted_rate('/data/negotiated_rates.json','G0283','11',22,'2022-01-07') == 8.78)\n",
    "assert (get_adjusted_rate('/data/negotiated_rates.json','G0283','11',22,'2022-01-03') == 6.58)\n",
    "assert (get_adjusted_rate('/data/negotiated_rates.json','G0283','11',76,'2022-01-03') == 4.39)\n",
    "assert (get_adjusted_rate('/data/negotiated_rates.json','G0283','11',76,'2022-01-08') == 4.39)"
   ]
  },
  {
   "cell_type": "code",
   "execution_count": 159,
   "metadata": {},
   "outputs": [
    {
     "name": "stdout",
     "output_type": "stream",
     "text": [
      "Finding tests in NoName\n",
      "Trying:\n",
      "    get_adjusted_rate('/data/negotiated_rates.json','G0283','11',22,'2022-10-17')\n",
      "Expecting:\n",
      "    6.58\n",
      "ok\n",
      "Trying:\n",
      "    get_adjusted_rate('/data/negotiated_rates.json','G0283','11',64,'2022-10-18')\n",
      "Expecting:\n",
      "    8.78\n",
      "ok\n",
      "Trying:\n",
      "    get_adjusted_rate('/data/negotiated_rates.json','ABCDE','00',22,'2022-10-17')\n",
      "Expecting nothing\n",
      "ok\n"
     ]
    }
   ],
   "source": [
    "import doctest\n",
    "doctest.run_docstring_examples(get_adjusted_rate, globals(), verbose=True)"
   ]
  },
  {
   "cell_type": "markdown",
   "metadata": {},
   "source": [
    "---\n",
    "\n",
    "## Step 4: Calculate total payments for a list of visits\n",
    "\n",
    "Last step, we're going to put your get_adjusted_rate() function to work on a list of visits from a few hospitals in the St. Louis region.\n",
    "\n",
    "Your last function, **summarize_reimbursement()** needs to read an encounter file and the negotiated rates file, compute an adjusted rate for each encounter (row) in the input file, and return two dictionaries of information:\n",
    "1. Total expected reimbursement by month\n",
    "2. Total expected reimbursement by hospital\n",
    "\n",
    "Your should be able to run your function as `by_month, by_hospital = summarize_reimbursement(visits, negotiated_rates)` and have the two answers below:\n",
    "\n",
    "**by_month**\n",
    "```json\n",
    "{\n",
    "    '2021-05': 192.38,\n",
    "    '2021-03': 378.72,\n",
    "    '2021-07': 277.67,\n",
    "    '2021-06': 236.53,\n",
    "    '2021-11': 229.7,\n",
    "    '2021-10': 234.52,\n",
    "    '2021-12': 297.87,\n",
    "    '2021-04': 337.7,\n",
    "    '2021-09': 160.4,\n",
    "    '2021-01': 111.91,\n",
    "    '2021-02': 158.55,\n",
    "    '2021-08': 152.28\n",
    "}\n",
    "```\n",
    "\n",
    "**by_hospital**\n",
    "```json\n",
    "{\n",
    "    'Missouri Baptist': 514.18,\n",
    "    'SSM DePaul': 460.02,\n",
    "    'SLU Hospital': 409.67,\n",
    "    'Barnes Jewish': 485.7,\n",
    "    'Mercy Springfield': 518.59,\n",
    "    'Mercy St. Louis': 380.07\n",
    "}\n",
    "```\n",
    "\n",
    "**Round your totals to 2 decimal places**\n",
    "\n",
    "**If rates are not found, just ignore them**"
   ]
  },
  {
   "cell_type": "code",
   "execution_count": 160,
   "metadata": {},
   "outputs": [],
   "source": [
    "import json\n",
    "import csv\n",
    "from datetime import datetime\n",
    "\n",
    "def summarize_reimbursement(csv_file, json_file):\n",
    "    \"\"\"(str, str)-> dict, dict\n",
    "    This function reads information from a csv file called 'visits' and the previous json file and consolidates the information by using the \n",
    "    get_adjusted_rate() function. If the information in 'visits' matches the information in 'negotiated_rates', then the adjusted rate calculated\n",
    "    for each row in 'visits' will be added to two separate dictionaries, one based on the months when the visits occurred and one based on the \n",
    "    hospitals where the visits occured. \n",
    "    \n",
    "    >>> summarize_reimbursement('/data/visits.csv','/data/negotiated_rates.json')[0]['2021-08']\n",
    "    152.28\n",
    "    \n",
    "    >>> summarize_reimbursement('/data/visits.csv','/data/negotiated_rates.json')[1]['SLU Hospital']\n",
    "    409.67\n",
    "    \n",
    "    >>> summarize_reimbursement('/data/visits.csv','/data/negotiated_rates.json')[1]\n",
    "    {'Missouri Baptist': 514.18, 'SSM DePaul': 460.02, 'SLU Hospital': 409.67, 'Barnes Jewish': 485.7, 'Mercy Springfield': 518.59, 'Mercy St. Louis': 380.07}\n",
    "    \"\"\"\n",
    "    if csv_file != '/data/visits.csv': # if the wrong csv file is used...\n",
    "        raise Exception(\"Please use this csv data file: '/data/visits.csv'\") # ...inform the user to enter the correct file\n",
    "    \n",
    "    month_dict = {} # create empty month dictionary\n",
    "    hosp_dict = {} # create empty hospital dictionary\n",
    "\n",
    "    with open(csv_file) as f: # open/close 'visits.csv' into 'f'\n",
    "        csv_reader = csv.reader(f) # read through 'f' and creates csv_reader object\n",
    "        next(csv_reader) # skips over header row\n",
    "\n",
    "        for row in csv_reader: # iterates over every row in csv.reader\n",
    "            rate = get_adjusted_rate(json_file, row[4], row[5], int(row[3]), row[6]) # call upon get_adjusted_rate() and set as 'rate'\n",
    "            visit_date = datetime.strptime(row[6], '%Y-%m-%d') # converts date found under row[6] from str to datetime.datetime\n",
    "            \n",
    "            if rate == None: # if the information from the current row does not produce an actual rate...\n",
    "                pass # ...skip to next row\n",
    "            \n",
    "            else:\n",
    "                if visit_date.strftime(\"%Y-%m\") not in month_dict: # if the date formatted as YYYY-mm is not in the month dictionary as a key...\n",
    "                    month_dict[visit_date.strftime(\"%Y-%m\")] = rate # ...then add YYYY-mm as a key and the current rate as its value\n",
    "\n",
    "                else: # YYYY-mm is in month dictionary already\n",
    "                    month_dict[visit_date.strftime(\"%Y-%m\")] += rate # add the rate to the existing rate value in the month dictionary\n",
    "\n",
    "                if row[1] not in hosp_dict: # if the hospital name is not in the hospital dictionary as a key...\n",
    "                    hosp_dict[row[1]] = rate # ...then add the hospital name as a key and the current rate as its value\n",
    "\n",
    "                else: # hospital name is in hospital dictionary already\n",
    "                    hosp_dict[row[1]] += rate # add the rate to the existing rate value in the hospital dictionary\n",
    "\n",
    "        for month, total_rate in month_dict.items(): # iterate through each key in month dictionary\n",
    "            month_dict[month] = round(total_rate, 2) # round the value of total rate to two decimal places to account for floating-points\n",
    "\n",
    "        for hospital, total_rate in hosp_dict.items(): # iterate through each key in hospital dictionary\n",
    "            hosp_dict[hospital] = round(total_rate, 2) # round the value of total rate to two decimal places to account for floating-points\n",
    "\n",
    "\n",
    "        return month_dict, hosp_dict # return each dictionary"
   ]
  },
  {
   "cell_type": "code",
   "execution_count": 161,
   "metadata": {},
   "outputs": [
    {
     "name": "stdout",
     "output_type": "stream",
     "text": [
      "{'2021-05': 192.38, '2021-03': 378.72, '2021-07': 277.67, '2021-06': 236.53, '2021-11': 229.7, '2021-10': 234.52, '2021-12': 297.87, '2021-04': 337.7, '2021-09': 160.4, '2021-01': 111.91, '2021-02': 158.55, '2021-08': 152.28}\n",
      "{'Missouri Baptist': 514.18, 'SSM DePaul': 460.02, 'SLU Hospital': 409.67, 'Barnes Jewish': 485.7, 'Mercy Springfield': 518.59, 'Mercy St. Louis': 380.07}\n"
     ]
    }
   ],
   "source": [
    "by_month, by_hospital = summarize_reimbursement('/data/visits.csv','/data/negotiated_rates.json')\n",
    "print(by_month)\n",
    "print(by_hospital)"
   ]
  },
  {
   "cell_type": "code",
   "execution_count": 162,
   "metadata": {},
   "outputs": [],
   "source": [
    "assert (summarize_reimbursement('/data/visits.csv','/data/negotiated_rates.json')[0]['2021-07'] == 277.67)\n",
    "assert (summarize_reimbursement('/data/visits.csv','/data/negotiated_rates.json')[0]['2021-03'] == 378.72)\n",
    "assert (summarize_reimbursement('/data/visits.csv','/data/negotiated_rates.json')[1]['Mercy St. Louis'] == 380.07)\n",
    "assert (summarize_reimbursement('/data/visits.csv','/data/negotiated_rates.json')[1]['Mercy Springfield'] == 518.59)"
   ]
  },
  {
   "cell_type": "code",
   "execution_count": 163,
   "metadata": {},
   "outputs": [
    {
     "name": "stdout",
     "output_type": "stream",
     "text": [
      "Finding tests in NoName\n",
      "Trying:\n",
      "    summarize_reimbursement('/data/visits.csv','/data/negotiated_rates.json')[0]['2021-08']\n",
      "Expecting:\n",
      "    152.28\n",
      "ok\n",
      "Trying:\n",
      "    summarize_reimbursement('/data/visits.csv','/data/negotiated_rates.json')[1]['SLU Hospital']\n",
      "Expecting:\n",
      "    409.67\n",
      "ok\n",
      "Trying:\n",
      "    summarize_reimbursement('/data/visits.csv','/data/negotiated_rates.json')[1]\n",
      "Expecting:\n",
      "    {'Missouri Baptist': 514.18, 'SSM DePaul': 460.02, 'SLU Hospital': 409.67, 'Barnes Jewish': 485.7, 'Mercy Springfield': 518.59, 'Mercy St. Louis': 380.07}\n",
      "ok\n"
     ]
    }
   ],
   "source": [
    "import doctest\n",
    "doctest.run_docstring_examples(summarize_reimbursement, globals(), verbose=True)"
   ]
  },
  {
   "cell_type": "code",
   "execution_count": null,
   "metadata": {},
   "outputs": [],
   "source": []
  }
 ],
 "metadata": {
  "kernelspec": {
   "display_name": "Python 3",
   "language": "python",
   "name": "python3"
  },
  "language_info": {
   "codemirror_mode": {
    "name": "ipython",
    "version": 3
   },
   "file_extension": ".py",
   "mimetype": "text/x-python",
   "name": "python",
   "nbconvert_exporter": "python",
   "pygments_lexer": "ipython3",
   "version": "3.6.7"
  }
 },
 "nbformat": 4,
 "nbformat_minor": 4
}
