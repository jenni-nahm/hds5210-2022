{
 "cells": [
  {
   "cell_type": "markdown",
   "metadata": {
    "nbgrader": {
     "grade": false,
     "grade_id": "intro",
     "locked": true,
     "schema_version": 1,
     "solution": false
    }
   },
   "source": [
    "# Week 6 Exercises\n",
    "\n",
    "_McKinney 6.1_\n",
    "\n",
    "There are multiple ways to solve the problems below.  You can use any one of several approaches.  For example, you can read CSV files using Pandas or the csv module.  Your score won't depend on which modules you choose to use unless explicitly noted below, but your programming style will still matter."
   ]
  },
  {
   "cell_type": "markdown",
   "metadata": {
    "nbgrader": {
     "grade": false,
     "grade_id": "q1-description",
     "locked": true,
     "schema_version": 1,
     "solution": false
    }
   },
   "source": [
    "### 30.1 List of Allergies\n",
    "\n",
    "In the /data directory on the Jupyter server, there is a file called `allergies.json` that contains a list of patient allergies.  It is taken from sample data provided by the EHR vendor, Epic, here: https://open.epic.com/Clinical/Allergy\n",
    "\n",
    "Take some time to look at the structure of the file.  You can open it directly in Jupyter by clicking the _Home_ icon, then the _from_instructor_ folder, and then the _data_ folder.\n",
    "\n",
    "Within the file, you'll see that it is a dictionary with many items in it.  One of those items is called `entry` and that item is a list of things.  You can tell that because the item name is immediately followed by an opening square bracket, signifying the start of a list.  It's line 11 of the file: `  \"entry\": [`\n",
    "\n",
    "Write a function named `allergy_count(json_file)` that takes as one parameter the name of the JSON file and returns an integer number of entries in that file.  Your function should open the file, read the json into a Python object, and return how many items there are in the list of `entry`s."
   ]
  },
  {
   "cell_type": "code",
   "execution_count": 575,
   "metadata": {},
   "outputs": [],
   "source": [
    "import json\n",
    "from pathlib import Path\n",
    "HOME = str(Path.home())\n",
    "\n",
    "ALLERGIES_FILE=\"/data/allergies.json\""
   ]
  },
  {
   "cell_type": "code",
   "execution_count": 576,
   "metadata": {
    "nbgrader": {
     "grade": false,
     "grade_id": "q1-answer",
     "locked": false,
     "schema_version": 1,
     "solution": true
    }
   },
   "outputs": [],
   "source": [
    "### BEGIN SOLUTION\n",
    "def allergy_count(json_file):\n",
    "    \"\"\"(JSON file as str) -> int\n",
    "    This function finds the number of allergies listed within the file allergies.json. It returns the numbers of allergies as an\n",
    "    integer value.\n",
    "    \n",
    "    >>> allergy_count(ALLERGIES_FILE)\n",
    "    4\n",
    "    \"\"\"\n",
    "    \n",
    "    with open(json_file) as f: # opens the json file passed through the parameter # set up to close file automatically\n",
    "        bundle = json.load(f) # reads json file into a dictionary called bundle\n",
    "        \n",
    "    allergy_counter = 0 # set allergy counter variable to zero\n",
    "\n",
    "    entries = bundle.get('entry') # assigns values in entry key to a list called entries\n",
    "    \n",
    "    for entry in entries: # iterates through each entry \n",
    "        resource = entry.get('resource') # assigns key-value pairs in resource key to a dict called resource\n",
    "        \n",
    "        if resource['resourceType'] == 'AllergyIntolerance' and resource['status'] == 'confirmed': # confirms if the resource is a confirmed allergy\n",
    "            allergy_counter += 1 # increases allergy counter by 1\n",
    "            \n",
    "    return int(allergy_counter) # return allergy counter variable set as an integer\n",
    "\n",
    "### END SOLUTION"
   ]
  },
  {
   "cell_type": "code",
   "execution_count": 577,
   "metadata": {},
   "outputs": [
    {
     "name": "stdout",
     "output_type": "stream",
     "text": [
      "Finding tests in NoName\n",
      "Trying:\n",
      "    allergy_count(ALLERGIES_FILE)\n",
      "Expecting:\n",
      "    4\n",
      "ok\n"
     ]
    }
   ],
   "source": [
    "import doctest\n",
    "doctest.run_docstring_examples(allergy_count, globals(), verbose=True)"
   ]
  },
  {
   "cell_type": "code",
   "execution_count": 578,
   "metadata": {},
   "outputs": [
    {
     "data": {
      "text/plain": [
       "4"
      ]
     },
     "execution_count": 578,
     "metadata": {},
     "output_type": "execute_result"
    }
   ],
   "source": [
    "allergy_count(ALLERGIES_FILE)"
   ]
  },
  {
   "cell_type": "code",
   "execution_count": 579,
   "metadata": {
    "nbgrader": {
     "grade": true,
     "grade_id": "q1-tests",
     "locked": true,
     "points": 5,
     "schema_version": 1,
     "solution": false
    }
   },
   "outputs": [],
   "source": [
    "assert type(allergy_count(ALLERGIES_FILE)) == int\n",
    "assert allergy_count(ALLERGIES_FILE) == 4"
   ]
  },
  {
   "cell_type": "markdown",
   "metadata": {},
   "source": [
    "### 30.2 Number of Patients\n",
    "\n",
    "If you dig a little bit deaper into this list of allergies, you'll see that each result has a patient associated with it.  Create a funcation called `patient_count(json_file)` that will count how many unique patients we have in this JSON structure.  "
   ]
  },
  {
   "cell_type": "code",
   "execution_count": 580,
   "metadata": {},
   "outputs": [],
   "source": [
    "### BEGIN SOLUTION\n",
    "\n",
    "def patient_count(json_file):\n",
    "    \"\"\"(JSON file as str) -> int\n",
    "    This function finds the number of unique patients listed within the file allergies.json. It returns the number of unique patients as an\n",
    "    integer value.\n",
    "    \n",
    "    >>> patient_count(ALLERGIES_FILE)\n",
    "    2\n",
    "    \"\"\"\n",
    "    \n",
    "    with open(json_file) as f: # opens the json file passed through the parameter # set up to close file automatically\n",
    "        bundle = json.load(f) # reads json file into a dictionary called bundle\n",
    "        \n",
    "    unq_pt_counter = 0 # set unique patient counter variable to zero\n",
    "    unq_pt_list = [] # set list of unique patients as empty\n",
    "\n",
    "    entries = bundle.get('entry') # assigns values in entry key to a list called entries\n",
    "    \n",
    "    for entry in entries: # iterates through each entry \n",
    "        resource = entry.get('resource') # assigns key-value pairs in resource key to a dict called resource\n",
    "        patient = resource['patient'] # assigns value in resource key 'patient' to patient\n",
    "        display = patient['display'] # assigns value in patient key 'display' to display\n",
    "        \n",
    "        if display not in unq_pt_list: # if the patient's name is not in the list...\n",
    "            unq_pt_list.append(display) # ...then add the patient's name to the list\n",
    "            unq_pt_counter += 1 # increases unique patient counter by 1 if a new patient is added to the unique patient list \n",
    "            \n",
    "        else: # if the patient's name is in the list...\n",
    "            pass # ...then skip adding to the list and increasing the counter\n",
    "            \n",
    "    return int(unq_pt_counter) # return unique patient counter variable set as an integer\n",
    "\n",
    "### END SOLUTION"
   ]
  },
  {
   "cell_type": "code",
   "execution_count": 581,
   "metadata": {},
   "outputs": [
    {
     "name": "stdout",
     "output_type": "stream",
     "text": [
      "Finding tests in NoName\n",
      "Trying:\n",
      "    patient_count(ALLERGIES_FILE)\n",
      "Expecting:\n",
      "    2\n",
      "ok\n"
     ]
    }
   ],
   "source": [
    "import doctest\n",
    "doctest.run_docstring_examples(patient_count, globals(), verbose=True)"
   ]
  },
  {
   "cell_type": "code",
   "execution_count": 582,
   "metadata": {},
   "outputs": [
    {
     "data": {
      "text/plain": [
       "2"
      ]
     },
     "execution_count": 582,
     "metadata": {},
     "output_type": "execute_result"
    }
   ],
   "source": [
    "patient_count(ALLERGIES_FILE)"
   ]
  },
  {
   "cell_type": "markdown",
   "metadata": {},
   "source": [
    "### 30.3 How Many Allergies per Patient\n",
    "\n",
    "Although each entry is a separate allergy, several of them are for the same patient.  Write a function called `allergy_per_patient(json_file)` that counts up how many allergies each patient has.\n"
   ]
  },
  {
   "cell_type": "code",
   "execution_count": 583,
   "metadata": {},
   "outputs": [],
   "source": [
    "### BEGIN SOLUTION\n",
    "\n",
    "def allergy_per_patient(json_file):\n",
    "    \"\"\"(JSON file as str) -> printed str\n",
    "    This function finds the number of allergies per patient listed within the file allergies.json.\n",
    "    It prints the patient's name and the number of allergies they have.\n",
    "    \n",
    "    >>> allergy_per_patient(ALLERGIES_FILE)\n",
    "    Jason Argonaut's allergy count: 3.\n",
    "    Paul Boal's allergy count: 1.\n",
    "    \"\"\"\n",
    "    \n",
    "    with open(json_file) as f: # opens the json file passed through the parameter # set up to close \n",
    "        bundle = json.load(f) # reads json file into a dictionary called bundle\n",
    "    \n",
    "    unq_pt_dict = {} # sets dict of unique patients as empty\n",
    "\n",
    "    entries = bundle.get('entry') #  assigns values in entry key to a list called entries\n",
    "    \n",
    "    for entry in entries: # iterates through each entry \n",
    "        resource = entry.get('resource') # assigns key-value pairs in resource key to a dict called resource\n",
    "        \n",
    "        patient = resource['patient'] # assigns value in resource key 'patient' to patient\n",
    "        display = patient['display'] # assigns value in patient key 'display' to display\n",
    "        \n",
    "        substance = resource['substance'] # assigns value in resource key 'substance' to subtance\n",
    "        text = substance['text'] # assigns value in substance key 'text' to text\n",
    "        \n",
    "        if display not in unq_pt_dict: # if the patient's name is not a key in unqiue patient dict...\n",
    "            unq_pt_dict[display] = [text] # ...then set the current substance value as a list to the patient's name in the dict\n",
    "            \n",
    "        else: # if the patient's name is already a key in unqiue patient dict...\n",
    "            unq_pt_dict[display].append(text) # ...then add the current substance to the list\n",
    "    \n",
    "    for unq_pt in unq_pt_dict.items(): # iterates through each unique patient\n",
    "        print(f\"{unq_pt[0]}'s allergy count: {len(unq_pt[1])}.\") # prints the current patient's name and their allergy count\n",
    "    \n",
    "### END SOLUTION"
   ]
  },
  {
   "cell_type": "code",
   "execution_count": 584,
   "metadata": {},
   "outputs": [
    {
     "name": "stdout",
     "output_type": "stream",
     "text": [
      "Finding tests in NoName\n",
      "Trying:\n",
      "    allergy_per_patient(ALLERGIES_FILE)\n",
      "Expecting:\n",
      "    Jason Argonaut's allergy count: 3.\n",
      "    Paul Boal's allergy count: 1.\n",
      "ok\n"
     ]
    }
   ],
   "source": [
    "import doctest\n",
    "doctest.run_docstring_examples(allergy_per_patient, globals(), verbose=True)"
   ]
  },
  {
   "cell_type": "code",
   "execution_count": 585,
   "metadata": {},
   "outputs": [
    {
     "name": "stdout",
     "output_type": "stream",
     "text": [
      "Jason Argonaut's allergy count: 3.\n",
      "Paul Boal's allergy count: 1.\n"
     ]
    }
   ],
   "source": [
    "allergy_per_patient(ALLERGIES_FILE)"
   ]
  },
  {
   "cell_type": "markdown",
   "metadata": {
    "nbgrader": {
     "grade": false,
     "grade_id": "q2-question",
     "locked": true,
     "schema_version": 1,
     "solution": false
    }
   },
   "source": [
    "### 30.4 Patient Allergies and Reaction\n",
    "\n",
    "You'll see in the file that each of the items in the `entry` list have several other attributes including a patient name, substance text representation, and a reaction manifestation.  Create a function named `allergy_list(json_file)` that will create an output list that has patient name, allergy, and reaction for each `entry`.  The actual result you should get will be:\n",
    "\n",
    "```python\n",
    "[['Jason Argonaut', 'PENICILLIN G', 'Hives'],\n",
    " ['Paul Boal', 'PENICILLIN G', 'Bruising'],\n",
    " ['Jason Argonaut', 'SHELLFISH-DERIVED PRODUCTS', 'Itching'],\n",
    " ['Jason Argonaut', 'STRAWBERRY', 'Anaphylaxis']]\n",
    "```\n",
    "\n",
    "You'll notice that the reaction and the manifestation of that action are lists.  You only need to capture the first reaction and the first manifestation of the action.  That is, if there is a list of things, just output the first one."
   ]
  },
  {
   "cell_type": "code",
   "execution_count": 586,
   "metadata": {
    "nbgrader": {
     "grade": false,
     "grade_id": "q2-answer",
     "locked": false,
     "schema_version": 1,
     "solution": true
    }
   },
   "outputs": [],
   "source": [
    "import json\n",
    "\n",
    "### BEGIN SOLUTION\n",
    "\n",
    "def allergy_list (json_file):\n",
    "    \"\"\"(JSON file as str) -> list\n",
    "    This function finds a patient's name, allergy, and reaction from the file allergies.json. \n",
    "    It returns a list of these values which does not include any duplicate name/allergy pairs (meaning only the first reaction found will be provided).\n",
    "    \n",
    "    >>> allergy_list(ALLERGIES_FILE)\n",
    "    [['Jason Argonaut', 'PENICILLIN G', 'Hives'], ['Paul Boal', 'PENICILLIN G', 'Bruising'], ['Jason Argonaut', 'SHELLFISH-DERIVED PRODUCTS', 'Itching'], ['Jason Argonaut', 'STRAWBERRY', 'Anaphylaxis']]\n",
    "    \"\"\"\n",
    "    \n",
    "    with open(json_file) as f: # opens the json file passed through the parameter # set up to close \n",
    "        bundle = json.load(f) # reads json file into a dictionary called bundle\n",
    "    \n",
    "    allergy_list = [] # sets list of allergies as empty\n",
    "\n",
    "    entries = bundle.get('entry') # assigns values in entry key to a list called entries\n",
    "\n",
    "    \n",
    "    for entry in entries: # iterates through each entry\n",
    "        resource = entry.get('resource') # assigns key-value pairs in resource key to a dict called resource\n",
    "        \n",
    "        patient = resource['patient'] # assigns value in resource key 'patient' to patient\n",
    "        display = patient['display'] # assigns value in patient key 'display' to display\n",
    "        \n",
    "        substance = resource['substance'] # assigns value in resource key 'substance' to subtance\n",
    "        sub_text = substance['text'] # assigns value in substance key 'text' to sub_text\n",
    "\n",
    "        reactions = resource['reaction'] # assigns value in resource key 'reaction' to reactions\n",
    "        \n",
    "        for reaction in reactions: # iterates through each reaction\n",
    "            manifestations = reaction.get('manifestation') # assigns key-value pairs in manifestation key to manifestations\n",
    "            \n",
    "            for manifestation in manifestations: # iterates through each manifestation\n",
    "                allergy_text = manifestation.get('text') # assigns value in manifestation key 'text' to allergy_text\n",
    "                allergy_list.append([display, sub_text, allergy_text]) # adds list consisting of patient's name, allergy, and reaction to allergy list\n",
    "                break  # skips next manifestation(s) of the current patient and allergy\n",
    "                  \n",
    "    return allergy_list # returns the allergy list \n",
    "            \n",
    "### END SOLUTION"
   ]
  },
  {
   "cell_type": "code",
   "execution_count": 587,
   "metadata": {},
   "outputs": [
    {
     "name": "stdout",
     "output_type": "stream",
     "text": [
      "Finding tests in NoName\n",
      "Trying:\n",
      "    allergy_list(ALLERGIES_FILE)\n",
      "Expecting:\n",
      "    [['Jason Argonaut', 'PENICILLIN G', 'Hives'], ['Paul Boal', 'PENICILLIN G', 'Bruising'], ['Jason Argonaut', 'SHELLFISH-DERIVED PRODUCTS', 'Itching'], ['Jason Argonaut', 'STRAWBERRY', 'Anaphylaxis']]\n",
      "ok\n"
     ]
    }
   ],
   "source": [
    "import doctest\n",
    "doctest.run_docstring_examples(allergy_list, globals(), verbose=True)"
   ]
  },
  {
   "cell_type": "code",
   "execution_count": 588,
   "metadata": {},
   "outputs": [
    {
     "data": {
      "text/plain": [
       "[['Jason Argonaut', 'PENICILLIN G', 'Hives'],\n",
       " ['Paul Boal', 'PENICILLIN G', 'Bruising'],\n",
       " ['Jason Argonaut', 'SHELLFISH-DERIVED PRODUCTS', 'Itching'],\n",
       " ['Jason Argonaut', 'STRAWBERRY', 'Anaphylaxis']]"
      ]
     },
     "execution_count": 588,
     "metadata": {},
     "output_type": "execute_result"
    }
   ],
   "source": [
    "allergy_list(ALLERGIES_FILE)"
   ]
  },
  {
   "cell_type": "code",
   "execution_count": 589,
   "metadata": {
    "nbgrader": {
     "grade": true,
     "grade_id": "q2-tests",
     "locked": true,
     "points": 10,
     "schema_version": 1,
     "solution": false
    }
   },
   "outputs": [],
   "source": [
    "output=[['Jason Argonaut', 'PENICILLIN G', 'Hives'],\n",
    " ['Paul Boal', 'PENICILLIN G', 'Bruising'],\n",
    " ['Jason Argonaut', 'SHELLFISH-DERIVED PRODUCTS', 'Itching'],\n",
    " ['Jason Argonaut', 'STRAWBERRY', 'Anaphylaxis']]\n",
    "\n",
    "assert allergy_list(ALLERGIES_FILE) == output\n"
   ]
  },
  {
   "cell_type": "markdown",
   "metadata": {
    "nbgrader": {
     "grade": false,
     "grade_id": "q3-question",
     "locked": true,
     "schema_version": 1,
     "solution": false
    }
   },
   "source": [
    "### 30.5 Allergy Reaction\n",
    "\n",
    "Write a function called `allergy_reaction(json_file,patient,substance)` that takes three parameter and returns the reaction that will happen if the patient takes the specified substance.  Solve this, in part, by calling your `allergy_list` function inside your new `allergy_reaction` function.\n",
    "\n",
    "If the substance is not found in the allergy list, the function should return None."
   ]
  },
  {
   "cell_type": "code",
   "execution_count": 590,
   "metadata": {
    "nbgrader": {
     "grade": false,
     "grade_id": "q3-answer",
     "locked": false,
     "schema_version": 1,
     "solution": true
    }
   },
   "outputs": [],
   "source": [
    "import json\n",
    "\n",
    "### BEGIN SOLUTION\n",
    "\n",
    "def allergy_reaction(json_file, patient, substance):\n",
    "    \"\"\"(JSON file as str, str, str) -> str\n",
    "    This function provides the type of reaction of an allergy for a patient. \n",
    "    It calls upon the allergy_list function to find the list of patients and their allergies/reactions from the file allergies.json.\n",
    "    It returns the reaction as a string if the patient and substance parameters are found in the list mentioned above.\n",
    "    \n",
    "    >>> allergy_reaction(ALLERGIES_FILE, 'Jason Argonaut', 'SHELLFISH-DERIVED PRODUCTS') \n",
    "    'Itching'\n",
    "    \n",
    "    >>> allergy_reaction(ALLERGIES_FILE, 'Helen Troy', 'SHELLFISH-DERIVED PRODUCTS')\n",
    "    \n",
    "    >>> allergy_reaction(ALLERGIES_FILE, 'Jason Argonaut', 'BLUEBERRY')\n",
    "    \"\"\"\n",
    "    \n",
    "    allergies = allergy_list(json_file) # calls on allergy_list function to assign list of patient's name/allergy/reaction to allergies\n",
    "    \n",
    "    allergy_reaction = None # sets allergy_reaction to None (nothing)\n",
    "    \n",
    "    for entry in allergies: # iterates through each entry\n",
    "        if entry[0] == patient and entry[1] == substance: # if the first value (name) in the current entry list matches the patient parameter and the second value (allergy) matches the substance parameter...\n",
    "            allergy_reaction = entry[2] # ...then the third value (reaction) is assigned to allergy_reaction\n",
    "            \n",
    "        else: # if either the first or second values do not match...\n",
    "            pass # ...keep allergy_reaction set to None and go on to the next entry list\n",
    "       \n",
    "    return allergy_reaction # returns the reaction to the patient's allergy\n",
    "\n",
    "### END SOLUTION"
   ]
  },
  {
   "cell_type": "code",
   "execution_count": 591,
   "metadata": {},
   "outputs": [
    {
     "name": "stdout",
     "output_type": "stream",
     "text": [
      "Finding tests in NoName\n",
      "Trying:\n",
      "    allergy_reaction(ALLERGIES_FILE, 'Jason Argonaut', 'SHELLFISH-DERIVED PRODUCTS') \n",
      "Expecting:\n",
      "    'Itching'\n",
      "ok\n",
      "Trying:\n",
      "    allergy_reaction(ALLERGIES_FILE, 'Helen Troy', 'SHELLFISH-DERIVED PRODUCTS')\n",
      "Expecting nothing\n",
      "ok\n",
      "Trying:\n",
      "    allergy_reaction(ALLERGIES_FILE, 'Jason Argonaut', 'BLUEBERRY')\n",
      "Expecting nothing\n",
      "ok\n"
     ]
    }
   ],
   "source": [
    "import doctest\n",
    "doctest.run_docstring_examples(allergy_reaction, globals(), verbose=True)"
   ]
  },
  {
   "cell_type": "code",
   "execution_count": 592,
   "metadata": {},
   "outputs": [
    {
     "data": {
      "text/plain": [
       "'Hives'"
      ]
     },
     "execution_count": 592,
     "metadata": {},
     "output_type": "execute_result"
    }
   ],
   "source": [
    "allergy_reaction(ALLERGIES_FILE, 'Jason Argonaut', 'PENICILLIN G')"
   ]
  },
  {
   "cell_type": "code",
   "execution_count": 593,
   "metadata": {
    "nbgrader": {
     "grade": true,
     "grade_id": "q3-tests",
     "locked": true,
     "points": 5,
     "schema_version": 1,
     "solution": false
    }
   },
   "outputs": [],
   "source": [
    "assert allergy_reaction(ALLERGIES_FILE, 'Jason Argonaut', 'PENICILLIN G') == 'Hives'\n",
    "assert allergy_reaction(ALLERGIES_FILE, 'Jason Argonaut', 'SHELLFISH-DERIVED PRODUCTS') == 'Itching'\n",
    "assert allergy_reaction(ALLERGIES_FILE, 'Jason Argonaut', 'STRAWBERRY') == 'Anaphylaxis'\n",
    "assert allergy_reaction(ALLERGIES_FILE, 'Jason Argonaut', 'PENICILLIN') == None\n",
    "assert allergy_reaction(ALLERGIES_FILE, 'Paul Boal', 'PENICILLIN G') == 'Bruising'"
   ]
  },
  {
   "cell_type": "markdown",
   "metadata": {},
   "source": [
    "---\n",
    "---\n",
    "\n",
    "# Stretch (Extra) Problem\n",
    "\n",
    "Work on either of the stretch problems below can earn you up to 25 free points toward the midterm assignment.  That is, if you complete one of these extra problems successfully, you can skip 1 of the problems that will appear on the midterm exam coming up next week.\n",
    "\n",
    "The midterm will be distributed 10/14 and due 10/24.\n",
    "\n"
   ]
  },
  {
   "cell_type": "markdown",
   "metadata": {},
   "source": [
    "---\n",
    "---\n",
    "\n",
    "### STRETCH for October 2022 - For those looking for an additional challenge\n",
    "\n",
    "As I've mentioned in class, CMS is now enforcing a rule around price transparency.  Every facility that take Medicare payments is required to publish a \"machine readable\" file with it's pricing infomration for a number of common procedures across all of the payers they work with.  There are two examples of such files in the `/data/` directory: `whiteriver.json` and `saline.xml`.\n",
    "\n",
    "If you want to compare contracted prices across these two hospitals, you'll need to read in the information from both of those files into some kind of data structure, then merge the data together from those two files.  See what you can do.\n",
    "\n",
    "See if you can create an output file that has the following fields:\n",
    "* HOSPITAL\n",
    "* PROCEDURE_CODE\n",
    "* PAYER\n",
    "* AMOUNT\n",
    "\n",
    "If you choose to work on this, you may get stuck at some point and you won't know if you're _doing it right_. Make some assumptions. Document your questions in this notebook.\n",
    "\n"
   ]
  },
  {
   "cell_type": "markdown",
   "metadata": {},
   "source": [
    "```\n",
    "Procedure Code |  Description  |  Gross Charges  |  Aetna  |  QualChoice\n",
    "```"
   ]
  },
  {
   "cell_type": "code",
   "execution_count": 50,
   "metadata": {},
   "outputs": [],
   "source": [
    "# WHITERIVER JSON FILE (TEST CODE - DO NOT RUN)\n",
    "import json\n",
    "\n",
    "with open('/data/whiteriver.json') as j:\n",
    "    root = json.load(j)\n",
    "\n",
    "s = open('wr_test.txt', 'w')\n",
    "\n",
    "s.write(root['root']['HospitalorFacilityName'] + '\\n\\n')\n",
    "\n",
    "wr_charges = root['root']['StandardCharges']\n",
    "\n",
    "for wr_charge in wr_charges:\n",
    "    s.write('\\tProcedureCode: ' + wr_charge['ProcedureCode'] + '\\n')\n",
    "    s.write('\\t\\tDescription: ' + wr_charge['Description'] + '\\n')\n",
    "    s.write('\\t\\tGross Charges: ' + wr_charge.get('OutpatientGrossCharge') + '\\n')\n",
    "    s.write('\\t\\tAetna Pricing: ' + wr_charge.get('AETNA_Outpatient') + '\\n')\n",
    "    s.write('\\t\\tQualChoice Pricing: ' + wr_charge.get('QUALCHOICE_Outpatient') + '\\n\\n')\n",
    "    \n",
    "s.close()"
   ]
  },
  {
   "cell_type": "code",
   "execution_count": 62,
   "metadata": {},
   "outputs": [],
   "source": [
    "# SALINE XML FILE (TEST CODE - DO NOT RUN)\n",
    "from lxml import objectify\n",
    "\n",
    "with open('/data/saline.xml') as x:\n",
    "    sa = objectify.parse(x)\n",
    "\n",
    "s = open('sa_test.txt', 'a')\n",
    "test = sa.getroot()\n",
    "\n",
    "for facility in test.findall('Facility'):\n",
    "    name = facility.get('Name')\n",
    "    s.write(name.title() + '\\n\\n')\n",
    "    \n",
    "patients = facility.getchildren()\n",
    "\n",
    "for patient in patients:\n",
    "    if patient.get('Type') == 'Outpatient':\n",
    "        #outpatient = patient.get('Type')\n",
    "        sa_charges = patient.getchildren()\n",
    "\n",
    "for sa_charge in sa_charges:\n",
    "    codes = sa_charge.getchildren()\n",
    "\n",
    "for code in codes:\n",
    "    if code.get('Code') < '19082':\n",
    "        s.write('\\tProcedure Code: ' + code.get('Code') + '\\n')   \n",
    "        items = code.getchildren()\n",
    "\n",
    "        s.write('\\t\\tDescription: ' + items[0] + '\\n')\n",
    "        s.write('\\t\\tGross Charges: ' + str(items[2]) + '\\n')\n",
    "\n",
    "        for item in code.iter('Contract'):\n",
    "            if item.get('Payer') == 'AETNA - (POS)':\n",
    "                s.write('\\t\\tAetna Pricing: ' + item.get('Charge') + '\\n')\n",
    "            else:\n",
    "                s.write('\\t\\tAetna Pricing: N/A \\n')\n",
    "                pass\n",
    "\n",
    "            if item.get('Payer') == 'QUALCHOICE LIFE AND HEALTH INSURANCE COMPANY INC - (Indemnity)':\n",
    "                s.write('\\t\\tQualChoice Pricing: ' + item.get('Charge') + '\\n')\n",
    "            else:        \n",
    "                s.write('\\t\\tQualChoice Pricing: N/A \\n\\n')\n",
    "                break\n",
    "\n",
    "                \n",
    "s.close()"
   ]
  },
  {
   "cell_type": "code",
   "execution_count": 67,
   "metadata": {},
   "outputs": [],
   "source": [
    "# COMBINATION (RUN THIS CODE!)\n",
    "\"\"\"\n",
    "This code makes it easy to compare the gross charges and Aetna/QualChoice pricing of common procedures between two hospitals: \n",
    "White River and Saline. Since this a comparison, I assume that one would only look at procedures that both hospitals have, meaning\n",
    "if White River has a procedure that Saline does not, it will not be included in the file. This code produces a text file called 'stretch' that\n",
    "shows for each procedure/code the gross charges, Aetna pricing, and QualChoice pricing of each hospital.\n",
    "\"\"\"\n",
    "\n",
    "import json\n",
    "from lxml import objectify\n",
    "\n",
    "with open('/data/whiteriver.json') as j: # open json file and close when done\n",
    "    root = json.load(j)\n",
    "with open('/data/saline.xml') as x: # open xml file and close when done\n",
    "    sa = objectify.parse(x)\n",
    "\n",
    "s = open('stretch2.txt', 'w') # open new text file called stretch and write into when called\n",
    "\n",
    "main = sa.getroot() # get main root of saline file\n",
    "\n",
    "for facility in main.findall('Facility'): # to be completely honest, I forgot why I have these two lines of code...\n",
    "    name = facility.get('Name') # ...but if I try to remove them, my code doesn't work, so they get to stay\n",
    "\n",
    "\n",
    "wr_charges = root['root']['StandardCharges'] # assign standard charges key to wr_charges\n",
    "\n",
    "for wr_charge in wr_charges: # iterate through each charge found in whiteriver\n",
    "    patients = facility.getchildren() # assign children of facility to patients\n",
    "\n",
    "    for patient in patients: # iterate through each kind of patient type (inpatient, emergency, etc..)\n",
    "        if patient.get('Type') == 'Outpatient': # if the type is Outpatient...\n",
    "            sa_charges = patient.getchildren() # ...then assign its children to sa_charges\n",
    "\n",
    "    for sa_charge in sa_charges: # iterate through each sa_charge\n",
    "        codes = sa_charge.getchildren() # assign each child(ren) to codes\n",
    "\n",
    "    for code in codes: # iterate through each code\n",
    "        if code.get('Code') == wr_charge['ProcedureCode']: # if the current code is found in both whiteriver and saline files...\n",
    "            s.write('Procedure Code: ' + wr_charge['ProcedureCode'] + '\\n') # ...then write the procedure code into stretch.txt\n",
    "            items = code.getchildren() # assign code children to items\n",
    "            \n",
    "            s.write('Description: ' + wr_charge['Description'] + '\\n\\n') # write description into stretch.txt\n",
    "            \n",
    "            s.write('\\tWhite River Gross Charges: ' + wr_charge.get('OutpatientGrossCharge') + '\\n') # write the gross charges for both white river and saline\n",
    "            s.write('\\tSaline Gross Charges: ' + str(items[2]) + '\\n\\n')\n",
    "            \n",
    "            for item in code.iter('Contract'): # for each item found within contract\n",
    "                s.write('\\tWhite River Aetna Pricing: ' + wr_charge.get('AETNA_Outpatient') + '\\n') # write white river aetna pricing\n",
    "                if item.get('Payer') == 'AETNA - (POS)': # determines if saline has aetna pricing\n",
    "                    s.write('\\tSaline Aetna Pricing: ' + item.get('Charge') + '\\n\\n') # write aetna pricing if it is found\n",
    "                else:\n",
    "                    s.write('\\tSaline Aetna Pricing: N/A \\n\\n') # write n/a if it is not found\n",
    "                    pass # skip to next payer\n",
    "\n",
    "                s.write('\\tWhite River QualChoice Pricing: ' + wr_charge.get('QUALCHOICE_Outpatient') + '\\n') # write white river qualchoice pricing\n",
    "                if item.get('Payer') == 'QUALCHOICE LIFE AND HEALTH INSURANCE COMPANY INC - (Indemnity)': # determines if saline has qualchoice pricing\n",
    "                    s.write('\\tSaline QualChoice Pricing: ' + item.get('Charge') + '\\n\\n\\n') # write qualchoice pricing if it is found\n",
    "                else:        \n",
    "                    s.write('\\tSaline QualChoice Pricing: N/A \\n\\n\\n') # write n/a if it is not found\n",
    "                    break # stop loop\n",
    "    \n",
    "s.close() # close stretch.txt\n"
   ]
  },
  {
   "cell_type": "markdown",
   "metadata": {},
   "source": [
    "---\n",
    "\n",
    "## Check your work above\n",
    "\n",
    "If you didn't get them all correct, take a few minutes to think through those that aren't correct.\n",
    "\n",
    "\n",
    "## Submitting Your Work\n",
    "\n",
    "In order to submit your work, you'll need to use the `git` command line program to **add** your homework file (this file) to your local repository, **commit** your changes to your local repository, and then **push** those changes up to github.com.  From there, I'll be able to **pull** the changes down and do my grading.  I'll provide some feedback, **commit** and **push** my comments back to you.  Next week, I'll show you how to **pull** down my comments.\n",
    "\n",
    "First run through everything one last time and submit your work:\n",
    "1. Use the `Kernel` -> `Restart Kernel and Run All Cells` menu option to run everything from top to bottom and stop here.\n",
    "2. Then open a new command line by clicking the `+` icon above the file list and chosing `Terminal`\n",
    "3. At the command line in the new Terminal, follow these steps:\n",
    "  1. Change directories to your project folder and the week03 subfolder (`cd <folder name>`)\n",
    "  2. Make sure your project folders are up to date with github.com (`git pull`)\n",
    "  3. Add the homework files for this week (`git add <file name>`)\n",
    "  4. Commit your changes (`git commit -a -m \"message\"`)\n",
    "  5. Push your changes (`git push`)\n",
    "  \n",
    "If anything fails along the way with this submission part of the process, let me know.  I'll help you troubleshoort."
   ]
  }
 ],
 "metadata": {
  "celltoolbar": "Create Assignment",
  "kernelspec": {
   "display_name": "Python 3",
   "language": "python",
   "name": "python3"
  },
  "language_info": {
   "codemirror_mode": {
    "name": "ipython",
    "version": 3
   },
   "file_extension": ".py",
   "mimetype": "text/x-python",
   "name": "python",
   "nbconvert_exporter": "python",
   "pygments_lexer": "ipython3",
   "version": "3.6.7"
  }
 },
 "nbformat": 4,
 "nbformat_minor": 2
}
