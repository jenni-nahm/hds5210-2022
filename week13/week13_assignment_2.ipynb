{
 "cells": [
  {
   "cell_type": "markdown",
   "metadata": {
    "nbgrader": {
     "grade": false,
     "grade_id": "cell-fc1c39d0d6f8b82a",
     "locked": true,
     "schema_version": 1,
     "solution": false
    }
   },
   "source": [
    "# Week 13 Programming Assignment\n",
    "\n",
    "As you're working on identifying data for your final project, it's helpful to spend some time exploring your various data files.  For this week's assignment, I'd like you to take a few of the ideas from the the lectures, review assignment, and tonight's lecture to start exploring the data you plan to use for the final project.\n",
    "\n",
    "For the following activities, you can use just one of the data files that you've identified, or you can do the activities using different data files.  That's up to you.  Please describe what you're doing in a Markdown cell or in the comments of your code.  When you've completed the assignment, submit it as normal."
   ]
  },
  {
   "cell_type": "markdown",
   "metadata": {},
   "source": [
    "### 1. Basic Statistics\n",
    "\n",
    "Use Python to read in your data file and show many rows and columns your data has."
   ]
  },
  {
   "cell_type": "code",
   "execution_count": 15,
   "metadata": {},
   "outputs": [
    {
     "data": {
      "text/html": [
       "<div>\n",
       "<style scoped>\n",
       "    .dataframe tbody tr th:only-of-type {\n",
       "        vertical-align: middle;\n",
       "    }\n",
       "\n",
       "    .dataframe tbody tr th {\n",
       "        vertical-align: top;\n",
       "    }\n",
       "\n",
       "    .dataframe thead th {\n",
       "        text-align: right;\n",
       "    }\n",
       "</style>\n",
       "<table border=\"1\" class=\"dataframe\">\n",
       "  <thead>\n",
       "    <tr style=\"text-align: right;\">\n",
       "      <th></th>\n",
       "      <th>FACILITY</th>\n",
       "      <th>ADDRESS</th>\n",
       "      <th>CITY</th>\n",
       "      <th>STATE</th>\n",
       "      <th>ZIP</th>\n",
       "      <th>CREDENTIALID</th>\n",
       "      <th>LAWENFORCEMENT</th>\n",
       "      <th>New Georeferenced Column</th>\n",
       "    </tr>\n",
       "  </thead>\n",
       "  <tbody>\n",
       "    <tr>\n",
       "      <th>0</th>\n",
       "      <td>NEW BRITAIN POLICE DEPARTMENT</td>\n",
       "      <td>10 CHESTNUT ST</td>\n",
       "      <td>NEW BRITAIN</td>\n",
       "      <td>CT</td>\n",
       "      <td>06051-2654</td>\n",
       "      <td>1349023</td>\n",
       "      <td>True</td>\n",
       "      <td>POINT (-72.78093 41.6658)</td>\n",
       "    </tr>\n",
       "    <tr>\n",
       "      <th>1</th>\n",
       "      <td>WATERBURY POLICE DEPARTMENT</td>\n",
       "      <td>255 E MAIN ST</td>\n",
       "      <td>WATERBURY</td>\n",
       "      <td>CT</td>\n",
       "      <td>06702-2301</td>\n",
       "      <td>1143916</td>\n",
       "      <td>True</td>\n",
       "      <td>POINT (-73.03629 41.55461)</td>\n",
       "    </tr>\n",
       "    <tr>\n",
       "      <th>2</th>\n",
       "      <td>ANSONIA POLICE DEPARTMENT</td>\n",
       "      <td>65 Main Street</td>\n",
       "      <td>ANSONIA</td>\n",
       "      <td>CT</td>\n",
       "      <td>06401-3310</td>\n",
       "      <td>1075890</td>\n",
       "      <td>True</td>\n",
       "      <td>POINT (-73.07959 41.345408)</td>\n",
       "    </tr>\n",
       "    <tr>\n",
       "      <th>3</th>\n",
       "      <td>SOUTH WINDSOR POLICE DEPARTMENT</td>\n",
       "      <td>151 SAND HILL RD</td>\n",
       "      <td>SOUTH WINDSOR</td>\n",
       "      <td>CT</td>\n",
       "      <td>06074-2026</td>\n",
       "      <td>1157538</td>\n",
       "      <td>True</td>\n",
       "      <td>POINT (-72.55222 41.83585)</td>\n",
       "    </tr>\n",
       "    <tr>\n",
       "      <th>4</th>\n",
       "      <td>BRISTOL POLICE DEPARTMENT</td>\n",
       "      <td>131 N MAIN ST</td>\n",
       "      <td>BRISTOL</td>\n",
       "      <td>CT</td>\n",
       "      <td>06010-8123</td>\n",
       "      <td>1424496</td>\n",
       "      <td>True</td>\n",
       "      <td>POINT (-72.946121 41.674226)</td>\n",
       "    </tr>\n",
       "    <tr>\n",
       "      <th>...</th>\n",
       "      <td>...</td>\n",
       "      <td>...</td>\n",
       "      <td>...</td>\n",
       "      <td>...</td>\n",
       "      <td>...</td>\n",
       "      <td>...</td>\n",
       "      <td>...</td>\n",
       "      <td>...</td>\n",
       "    </tr>\n",
       "    <tr>\n",
       "      <th>108</th>\n",
       "      <td>Middlebury Police Dept.</td>\n",
       "      <td>200 Southford Road</td>\n",
       "      <td>Middlebury</td>\n",
       "      <td>CT</td>\n",
       "      <td>06762</td>\n",
       "      <td>2206784</td>\n",
       "      <td>True</td>\n",
       "      <td>POINT (-73.137679 41.518361)</td>\n",
       "    </tr>\n",
       "    <tr>\n",
       "      <th>109</th>\n",
       "      <td>St. Vincent's Outpatient Pharmacy</td>\n",
       "      <td>2800 Main Street</td>\n",
       "      <td>Bridgeport</td>\n",
       "      <td>CT</td>\n",
       "      <td>06606</td>\n",
       "      <td>2002416</td>\n",
       "      <td>False</td>\n",
       "      <td>POINT (-73.202955 41.200782)</td>\n",
       "    </tr>\n",
       "    <tr>\n",
       "      <th>110</th>\n",
       "      <td>WOLCOTT POLICE DEPT.</td>\n",
       "      <td>225 NICHOLS RD</td>\n",
       "      <td>WOLCOTT</td>\n",
       "      <td>CT</td>\n",
       "      <td>06716-2718</td>\n",
       "      <td>1055726</td>\n",
       "      <td>True</td>\n",
       "      <td>POINT (-72.98357 41.57877)</td>\n",
       "    </tr>\n",
       "    <tr>\n",
       "      <th>111</th>\n",
       "      <td>RIDGEFIELD POLICE DEPT.</td>\n",
       "      <td>76 EAST RIDGE RD</td>\n",
       "      <td>RIDGEFIELD</td>\n",
       "      <td>CT</td>\n",
       "      <td>06877-5022</td>\n",
       "      <td>1035832</td>\n",
       "      <td>True</td>\n",
       "      <td>POINT (-73.49381 41.28053)</td>\n",
       "    </tr>\n",
       "    <tr>\n",
       "      <th>112</th>\n",
       "      <td>VERNON POLICE DEPARTMENT</td>\n",
       "      <td>725 HARTFORD TPKE</td>\n",
       "      <td>VERNON</td>\n",
       "      <td>CT</td>\n",
       "      <td>06066-5115</td>\n",
       "      <td>1165866</td>\n",
       "      <td>True</td>\n",
       "      <td>POINT (-72.46496 41.8394)</td>\n",
       "    </tr>\n",
       "  </tbody>\n",
       "</table>\n",
       "<p>113 rows × 8 columns</p>\n",
       "</div>"
      ],
      "text/plain": [
       "                              FACILITY             ADDRESS           CITY  \\\n",
       "0        NEW BRITAIN POLICE DEPARTMENT      10 CHESTNUT ST    NEW BRITAIN   \n",
       "1          WATERBURY POLICE DEPARTMENT       255 E MAIN ST      WATERBURY   \n",
       "2            ANSONIA POLICE DEPARTMENT      65 Main Street        ANSONIA   \n",
       "3      SOUTH WINDSOR POLICE DEPARTMENT    151 SAND HILL RD  SOUTH WINDSOR   \n",
       "4            BRISTOL POLICE DEPARTMENT       131 N MAIN ST        BRISTOL   \n",
       "..                                 ...                 ...            ...   \n",
       "108            Middlebury Police Dept.  200 Southford Road     Middlebury   \n",
       "109  St. Vincent's Outpatient Pharmacy    2800 Main Street     Bridgeport   \n",
       "110               WOLCOTT POLICE DEPT.      225 NICHOLS RD        WOLCOTT   \n",
       "111            RIDGEFIELD POLICE DEPT.    76 EAST RIDGE RD     RIDGEFIELD   \n",
       "112           VERNON POLICE DEPARTMENT   725 HARTFORD TPKE         VERNON   \n",
       "\n",
       "    STATE         ZIP  CREDENTIALID  LAWENFORCEMENT  \\\n",
       "0      CT  06051-2654       1349023            True   \n",
       "1      CT  06702-2301       1143916            True   \n",
       "2      CT  06401-3310       1075890            True   \n",
       "3      CT  06074-2026       1157538            True   \n",
       "4      CT  06010-8123       1424496            True   \n",
       "..    ...         ...           ...             ...   \n",
       "108    CT       06762       2206784            True   \n",
       "109    CT       06606       2002416           False   \n",
       "110    CT  06716-2718       1055726            True   \n",
       "111    CT  06877-5022       1035832            True   \n",
       "112    CT  06066-5115       1165866            True   \n",
       "\n",
       "         New Georeferenced Column  \n",
       "0       POINT (-72.78093 41.6658)  \n",
       "1      POINT (-73.03629 41.55461)  \n",
       "2     POINT (-73.07959 41.345408)  \n",
       "3      POINT (-72.55222 41.83585)  \n",
       "4    POINT (-72.946121 41.674226)  \n",
       "..                            ...  \n",
       "108  POINT (-73.137679 41.518361)  \n",
       "109  POINT (-73.202955 41.200782)  \n",
       "110    POINT (-72.98357 41.57877)  \n",
       "111    POINT (-73.49381 41.28053)  \n",
       "112     POINT (-72.46496 41.8394)  \n",
       "\n",
       "[113 rows x 8 columns]"
      ]
     },
     "execution_count": 15,
     "metadata": {},
     "output_type": "execute_result"
    }
   ],
   "source": [
    "import pandas as pd\n",
    "\n",
    "rx_drop_boxes = pd.read_csv('/home/jupyter-jenni-nahm/hds5210-2022/final/Prescription_Drug_Drop_Boxes.csv')\n",
    "rx_drop_boxes"
   ]
  },
  {
   "cell_type": "code",
   "execution_count": 16,
   "metadata": {},
   "outputs": [
    {
     "data": {
      "text/plain": [
       "8"
      ]
     },
     "execution_count": 16,
     "metadata": {},
     "output_type": "execute_result"
    }
   ],
   "source": [
    "columns = rx_drop_boxes.shape[1] # shape = (rows, columns)\n",
    "columns"
   ]
  },
  {
   "cell_type": "markdown",
   "metadata": {},
   "source": [
    "### 2. Data Diversity\n",
    "\n",
    "Use Python to identify how many unique values each column in your data has.  Use Python to identify which column has the greatest number of distinct values (aka the most diversity)?  If your data has a unique identifier (e.g. a person or visit or record ID) then find the column with the next most number of unique values."
   ]
  },
  {
   "cell_type": "code",
   "execution_count": 17,
   "metadata": {},
   "outputs": [
    {
     "data": {
      "text/plain": [
       "{'FACILITY': 113,\n",
       " 'ADDRESS': 113,\n",
       " 'CITY': 93,\n",
       " 'STATE': 1,\n",
       " 'ZIP': 113,\n",
       " 'CREDENTIALID': 113,\n",
       " 'LAWENFORCEMENT': 2,\n",
       " 'New Georeferenced Column': 113}"
      ]
     },
     "execution_count": 17,
     "metadata": {},
     "output_type": "execute_result"
    }
   ],
   "source": [
    "# make dictionary to hold columns as 'keys' and how many unique values they have as 'values'\n",
    "\n",
    "column_counts = {}\n",
    "\n",
    "for column in rx_drop_boxes.columns:\n",
    "    column_counts[column] = len(rx_drop_boxes[column].unique())\n",
    "    \n",
    "column_counts"
   ]
  },
  {
   "cell_type": "code",
   "execution_count": 18,
   "metadata": {},
   "outputs": [
    {
     "data": {
      "text/plain": [
       "['FACILITY', 'ADDRESS', 'ZIP', 'New Georeferenced Column']"
      ]
     },
     "execution_count": 18,
     "metadata": {},
     "output_type": "execute_result"
    }
   ],
   "source": [
    "# make list to hold column(s) with highest number of unique values to determine is there is data diversity\n",
    "\n",
    "most_values = []\n",
    "\n",
    "for key, value in column_counts.items():\n",
    "    if 'id' in key.lower(): # ignores any kind of identification column\n",
    "        continue\n",
    "    if value == max(column_counts.values()):\n",
    "        most_values.append(key)\n",
    "        \n",
    "most_values"
   ]
  },
  {
   "cell_type": "markdown",
   "metadata": {},
   "source": [
    "### 3. Data Redundancy\n",
    "\n",
    "Use Python to identify any columns in your data where the value for every row is the same.  For example, if you had a gender column and all the rows said 'M', then you would want to write the code that helped you determine that."
   ]
  },
  {
   "cell_type": "code",
   "execution_count": 19,
   "metadata": {},
   "outputs": [
    {
     "data": {
      "text/plain": [
       "['STATE']"
      ]
     },
     "execution_count": 19,
     "metadata": {},
     "output_type": "execute_result"
    }
   ],
   "source": [
    "# make list to hold column(s) with fewest number of unique values to determine if there is data redudancy\n",
    "\n",
    "least_values = []\n",
    "\n",
    "for key, value in column_counts.items():\n",
    "    if value == min(column_counts.values()):  \n",
    "        least_values.append(key)\n",
    "        \n",
    "least_values"
   ]
  },
  {
   "cell_type": "markdown",
   "metadata": {},
   "source": [
    "### 4. Range of Values\n",
    "\n",
    "Your data almost certainly has some numeric columns that can be summed or averaged.  Create a histogram that shows the distribution of values for this column."
   ]
  },
  {
   "cell_type": "code",
   "execution_count": 20,
   "metadata": {},
   "outputs": [
    {
     "data": {
      "text/plain": [
       "(array([23.,  5.,  6., 16., 28.,  6.,  6., 10., 13.,  0.]),\n",
       " array([6000, 6100, 6200, 6300, 6400, 6500, 6600, 6700, 6800, 6900, 7000]),\n",
       " <a list of 10 Patch objects>)"
      ]
     },
     "execution_count": 20,
     "metadata": {},
     "output_type": "execute_result"
    },
    {
     "data": {
      "image/png": "[encoded data removed]",
      "text/plain": [
       "<Figure size 432x288 with 1 Axes>"
      ]
     },
     "metadata": {
      "needs_background": "light"
     },
     "output_type": "display_data"
    }
   ],
   "source": [
    "# make histogram to show frequency of zip codes grouped by the 100s\n",
    "\n",
    "rx_drop_boxes['ZIP'] = rx_drop_boxes['ZIP'].str[:5].astype(int) # makes zip code uniform up to 5 digits, cast as integers\n",
    "\n",
    "import matplotlib.pyplot as plt\n",
    "plt.hist(rx_drop_boxes['ZIP'], bins=[6000, 6100, 6200, 6300, 6400, 6500, 6600, 6700, 6800, 6900, 7000])"
   ]
  },
  {
   "cell_type": "markdown",
   "metadata": {},
   "source": [
    "### 5. Discussion\n",
    "\n",
    "Do any additional exploration of this data that you think may be interesting and include your code here.  Then go onto Slack and make a post about what you've observed.  Share your observation.  Share your code, if you like.  Share a screenshot of the data or a chart based on the data.\n",
    "\n",
    "Then comment on at least two other people's observations that they share on Slack.  (Use the reply as thread option in Slack to keep the conversation organized.)"
   ]
  },
  {
   "cell_type": "code",
   "execution_count": 32,
   "metadata": {},
   "outputs": [
    {
     "name": "stdout",
     "output_type": "stream",
     "text": [
      "Column FACILITY has lowercase values.\n",
      "Column ADDRESS has lowercase values.\n",
      "Column CITY has lowercase values.\n",
      "Column LAWENFORCEMENT has lowercase values.\n"
     ]
    }
   ],
   "source": [
    "# this code can be used to determine if a column is not uniformly cased (such as not all uppercase) which may be useful in data cleaning\n",
    "\n",
    "rx_drop_boxes = rx_drop_boxes.astype(str) # makes all values in df str\n",
    "\n",
    "# check to see which columns do not have uniform casing\n",
    "for column in rx_drop_boxes.columns:\n",
    "    for row in range(len(rx_drop_boxes[column])):\n",
    "        if rx_drop_boxes[column][row].isnumeric(): # skips number-only values\n",
    "            continue\n",
    "        elif not rx_drop_boxes[column][row].isupper():\n",
    "            print('Column ' + column + ' has lowercase values.')\n",
    "            break # only concerned with 1 instance of lowercase when we want uppercase values"
   ]
  },
  {
   "cell_type": "markdown",
   "metadata": {},
   "source": [
    "As we can see from the output, we have four columns that have at least one value with lowercase characters. For data cleaning purposes, it is usually best to have a uniform way the values are stored. One might try to create a filter for a specific city, and if the name is all uppercase in a few entries and mixed-cased in the rest, then only a portion of those cities are included unless upper() is called. If one has multiple filters, then the function can become tedious. Instead one can use the code above to find which columns are not uniform, and then use upper() on the specific column(s) instead of doing it one-by-one. It is interesting to note that this dataset came directly from a Connecticut government website and it has multiple case discrepancies.  "
   ]
  },
  {
   "cell_type": "markdown",
   "metadata": {},
   "source": [
    "\n",
    "\n",
    "---\n",
    "\n",
    "\n",
    "\n",
    "## Submitting Your Work\n",
    "\n",
    "Submit your work as usual."
   ]
  },
  {
   "cell_type": "code",
   "execution_count": null,
   "metadata": {},
   "outputs": [],
   "source": []
  }
 ],
 "metadata": {
  "celltoolbar": "Create Assignment",
  "kernelspec": {
   "display_name": "Python 3",
   "language": "python",
   "name": "python3"
  },
  "language_info": {
   "codemirror_mode": {
    "name": "ipython",
    "version": 3
   },
   "file_extension": ".py",
   "mimetype": "text/x-python",
   "name": "python",
   "nbconvert_exporter": "python",
   "pygments_lexer": "ipython3",
   "version": "3.6.7"
  }
 },
 "nbformat": 4,
 "nbformat_minor": 2
}
